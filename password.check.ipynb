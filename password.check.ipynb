{
 "cells": [
  {
   "cell_type": "raw",
   "id": "2b8be8ea-2c45-4bd9-a76d-546122683cdc",
   "metadata": {},
   "source": [
    "You are given a function check password(char,n); the function accepts string str  of size n as an arguement.Implement the function which returns 1 if given string str is valid password else 0 str is valid password if it satisfies the below conditions. \n",
    "-atleast 4 characters. \n",
    "-atleast one numeric digit . \n",
    "-atleast one capital letter . \n",
    "-Must not have space or slash(/).\n",
    "-startng character must be not a number"
   ]
  },
  {
   "cell_type": "code",
   "execution_count": 2,
   "id": "0cbbbf56-404c-4e87-84bd-a133b608a765",
   "metadata": {},
   "outputs": [],
   "source": [
    "def check_password(s, n):\n",
    "    if n <= 4:\n",
    "        return 0\n",
    "    \n",
    "    has_digit = False\n",
    "    has_upper = False\n",
    "    has_invalid_char = False\n",
    "    \n",
    "    for char in s:\n",
    "        if char.isdigit():\n",
    "            has_digit = True\n",
    "        elif char.isupper():\n",
    "            has_upper = True\n",
    "        elif char == ' ' or char == '/':\n",
    "            has_invalid_char = True\n",
    "    \n",
    "    if has_digit and has_upper and not has_invalid_char:\n",
    "        return 1\n",
    "    else:\n",
    "        return 0"
   ]
  },
  {
   "cell_type": "code",
   "execution_count": 3,
   "id": "10ed2018-be8c-4172-a90f-1b0f84a4ce12",
   "metadata": {},
   "outputs": [
    {
     "name": "stdout",
     "output_type": "stream",
     "text": [
      "1\n",
      "0\n",
      "0\n"
     ]
    }
   ],
   "source": [
    "print(check_password(\"Password1\", len(\"Password1\")))  \n",
    "print(check_password(\"pass1\", len(\"pass1\")))          \n",
    "print(check_password(\"Pass1/word\", len(\"Pass1/word\"))) "
   ]
  },
  {
   "cell_type": "code",
   "execution_count": null,
   "id": "fa360a58-35c0-449b-8fcf-bd6b5372dbef",
   "metadata": {},
   "outputs": [],
   "source": []
  }
 ],
 "metadata": {
  "kernelspec": {
   "display_name": "Python 3 (ipykernel)",
   "language": "python",
   "name": "python3"
  },
  "language_info": {
   "codemirror_mode": {
    "name": "ipython",
    "version": 3
   },
   "file_extension": ".py",
   "mimetype": "text/x-python",
   "name": "python",
   "nbconvert_exporter": "python",
   "pygments_lexer": "ipython3",
   "version": "3.11.7"
  }
 },
 "nbformat": 4,
 "nbformat_minor": 5
}
